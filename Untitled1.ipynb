{
  "nbformat": 4,
  "nbformat_minor": 0,
  "metadata": {
    "colab": {
      "name": "Untitled1.ipynb",
      "provenance": [],
      "authorship_tag": "ABX9TyM2NFPE2ktYW43KrJoq+VMw",
      "include_colab_link": true
    },
    "kernelspec": {
      "name": "python3",
      "display_name": "Python 3"
    },
    "language_info": {
      "name": "python"
    }
  },
  "cells": [
    {
      "cell_type": "markdown",
      "metadata": {
        "id": "view-in-github",
        "colab_type": "text"
      },
      "source": [
        "<a href=\"https://colab.research.google.com/github/hmulli2/Anomaly-Detection-IP-Address/blob/main/Untitled1.ipynb\" target=\"_parent\"><img src=\"https://colab.research.google.com/assets/colab-badge.svg\" alt=\"Open In Colab\"/></a>"
      ]
    },
    {
      "cell_type": "code",
      "execution_count": null,
      "metadata": {
        "id": "q3zvjkHYA6n2"
      },
      "outputs": [],
      "source": [
        ""
      ]
    },
    {
      "cell_type": "code",
      "execution_count": 1,
      "metadata": {
        "id": "eTaqIeSspqol"
      },
      "outputs": [],
      "source": [
        "import datetime\n",
        "import pandas as pd\n",
        "import numpy as np"
      ]
    },
    {
      "cell_type": "code",
      "source": [
        ""
      ],
      "metadata": {
        "id": "KYDlcasbBI8g"
      },
      "execution_count": null,
      "outputs": []
    },
    {
      "cell_type": "code",
      "execution_count": 2,
      "metadata": {
        "id": "uc4J036xpqom"
      },
      "outputs": [],
      "source": [
        "import matplotlib as plt\n",
        "import matplotlib.pyplot as pyplot"
      ]
    },
    {
      "cell_type": "code",
      "source": [
        "df = pd.read_csv('henry.csv')\n",
        "df.head(10)"
      ],
      "metadata": {
        "colab": {
          "base_uri": "https://localhost:8080/",
          "height": 363
        },
        "id": "3Q9dnFVbBNyr",
        "outputId": "922c626e-573e-4be6-9a8f-0ecf67a796e5"
      },
      "execution_count": 4,
      "outputs": [
        {
          "output_type": "execute_result",
          "data": {
            "text/plain": [
              "   No.      Time          Source     Destination Protocol  Length  \\\n",
              "0    1  0.000000   192.168.5.143    52.85.151.42  TLSv1.2     100   \n",
              "1    2  0.000030   192.168.5.143  35.244.181.201  TLSv1.2     100   \n",
              "2    3  0.000060    52.85.151.42   192.168.5.143      TCP      60   \n",
              "3    4  0.000091  35.244.181.201   192.168.5.143      TCP      60   \n",
              "4    5  0.000236   192.168.5.143    52.85.151.42  TLSv1.2      85   \n",
              "5    6  0.000236   192.168.5.143    52.85.151.42      TCP      60   \n",
              "6    7  0.000264    52.85.151.42   192.168.5.143      TCP      60   \n",
              "7    8  0.000308    52.85.151.42   192.168.5.143      TCP      60   \n",
              "8    9  0.000459   192.168.5.143  35.244.181.201  TLSv1.2      85   \n",
              "9   10  0.000459  35.244.181.201   192.168.5.143      TCP      60   \n",
              "\n",
              "                                                Info  \n",
              "0                                   Application Data  \n",
              "1                                   Application Data  \n",
              "2   443  >  59404 [ACK] Seq=1 Ack=47 Win=64240 Len=0  \n",
              "3   443  >  42464 [ACK] Seq=1 Ack=47 Win=64240 Len=0  \n",
              "4                                    Encrypted Alert  \n",
              "5  59404  >  443 [FIN, ACK] Seq=78 Ack=1 Win=6336...  \n",
              "6   443  >  59404 [ACK] Seq=1 Ack=78 Win=64240 Len=0  \n",
              "7   443  >  59404 [ACK] Seq=1 Ack=79 Win=64239 Len=0  \n",
              "8                                    Encrypted Alert  \n",
              "9   443  >  42464 [ACK] Seq=1 Ack=78 Win=64240 Len=0  "
            ],
            "text/html": [
              "\n",
              "  <div id=\"df-b7560f1b-0c39-4a05-b842-55226d4adfe7\">\n",
              "    <div class=\"colab-df-container\">\n",
              "      <div>\n",
              "<style scoped>\n",
              "    .dataframe tbody tr th:only-of-type {\n",
              "        vertical-align: middle;\n",
              "    }\n",
              "\n",
              "    .dataframe tbody tr th {\n",
              "        vertical-align: top;\n",
              "    }\n",
              "\n",
              "    .dataframe thead th {\n",
              "        text-align: right;\n",
              "    }\n",
              "</style>\n",
              "<table border=\"1\" class=\"dataframe\">\n",
              "  <thead>\n",
              "    <tr style=\"text-align: right;\">\n",
              "      <th></th>\n",
              "      <th>No.</th>\n",
              "      <th>Time</th>\n",
              "      <th>Source</th>\n",
              "      <th>Destination</th>\n",
              "      <th>Protocol</th>\n",
              "      <th>Length</th>\n",
              "      <th>Info</th>\n",
              "    </tr>\n",
              "  </thead>\n",
              "  <tbody>\n",
              "    <tr>\n",
              "      <th>0</th>\n",
              "      <td>1</td>\n",
              "      <td>0.000000</td>\n",
              "      <td>192.168.5.143</td>\n",
              "      <td>52.85.151.42</td>\n",
              "      <td>TLSv1.2</td>\n",
              "      <td>100</td>\n",
              "      <td>Application Data</td>\n",
              "    </tr>\n",
              "    <tr>\n",
              "      <th>1</th>\n",
              "      <td>2</td>\n",
              "      <td>0.000030</td>\n",
              "      <td>192.168.5.143</td>\n",
              "      <td>35.244.181.201</td>\n",
              "      <td>TLSv1.2</td>\n",
              "      <td>100</td>\n",
              "      <td>Application Data</td>\n",
              "    </tr>\n",
              "    <tr>\n",
              "      <th>2</th>\n",
              "      <td>3</td>\n",
              "      <td>0.000060</td>\n",
              "      <td>52.85.151.42</td>\n",
              "      <td>192.168.5.143</td>\n",
              "      <td>TCP</td>\n",
              "      <td>60</td>\n",
              "      <td>443  &gt;  59404 [ACK] Seq=1 Ack=47 Win=64240 Len=0</td>\n",
              "    </tr>\n",
              "    <tr>\n",
              "      <th>3</th>\n",
              "      <td>4</td>\n",
              "      <td>0.000091</td>\n",
              "      <td>35.244.181.201</td>\n",
              "      <td>192.168.5.143</td>\n",
              "      <td>TCP</td>\n",
              "      <td>60</td>\n",
              "      <td>443  &gt;  42464 [ACK] Seq=1 Ack=47 Win=64240 Len=0</td>\n",
              "    </tr>\n",
              "    <tr>\n",
              "      <th>4</th>\n",
              "      <td>5</td>\n",
              "      <td>0.000236</td>\n",
              "      <td>192.168.5.143</td>\n",
              "      <td>52.85.151.42</td>\n",
              "      <td>TLSv1.2</td>\n",
              "      <td>85</td>\n",
              "      <td>Encrypted Alert</td>\n",
              "    </tr>\n",
              "    <tr>\n",
              "      <th>5</th>\n",
              "      <td>6</td>\n",
              "      <td>0.000236</td>\n",
              "      <td>192.168.5.143</td>\n",
              "      <td>52.85.151.42</td>\n",
              "      <td>TCP</td>\n",
              "      <td>60</td>\n",
              "      <td>59404  &gt;  443 [FIN, ACK] Seq=78 Ack=1 Win=6336...</td>\n",
              "    </tr>\n",
              "    <tr>\n",
              "      <th>6</th>\n",
              "      <td>7</td>\n",
              "      <td>0.000264</td>\n",
              "      <td>52.85.151.42</td>\n",
              "      <td>192.168.5.143</td>\n",
              "      <td>TCP</td>\n",
              "      <td>60</td>\n",
              "      <td>443  &gt;  59404 [ACK] Seq=1 Ack=78 Win=64240 Len=0</td>\n",
              "    </tr>\n",
              "    <tr>\n",
              "      <th>7</th>\n",
              "      <td>8</td>\n",
              "      <td>0.000308</td>\n",
              "      <td>52.85.151.42</td>\n",
              "      <td>192.168.5.143</td>\n",
              "      <td>TCP</td>\n",
              "      <td>60</td>\n",
              "      <td>443  &gt;  59404 [ACK] Seq=1 Ack=79 Win=64239 Len=0</td>\n",
              "    </tr>\n",
              "    <tr>\n",
              "      <th>8</th>\n",
              "      <td>9</td>\n",
              "      <td>0.000459</td>\n",
              "      <td>192.168.5.143</td>\n",
              "      <td>35.244.181.201</td>\n",
              "      <td>TLSv1.2</td>\n",
              "      <td>85</td>\n",
              "      <td>Encrypted Alert</td>\n",
              "    </tr>\n",
              "    <tr>\n",
              "      <th>9</th>\n",
              "      <td>10</td>\n",
              "      <td>0.000459</td>\n",
              "      <td>35.244.181.201</td>\n",
              "      <td>192.168.5.143</td>\n",
              "      <td>TCP</td>\n",
              "      <td>60</td>\n",
              "      <td>443  &gt;  42464 [ACK] Seq=1 Ack=78 Win=64240 Len=0</td>\n",
              "    </tr>\n",
              "  </tbody>\n",
              "</table>\n",
              "</div>\n",
              "      <button class=\"colab-df-convert\" onclick=\"convertToInteractive('df-b7560f1b-0c39-4a05-b842-55226d4adfe7')\"\n",
              "              title=\"Convert this dataframe to an interactive table.\"\n",
              "              style=\"display:none;\">\n",
              "        \n",
              "  <svg xmlns=\"http://www.w3.org/2000/svg\" height=\"24px\"viewBox=\"0 0 24 24\"\n",
              "       width=\"24px\">\n",
              "    <path d=\"M0 0h24v24H0V0z\" fill=\"none\"/>\n",
              "    <path d=\"M18.56 5.44l.94 2.06.94-2.06 2.06-.94-2.06-.94-.94-2.06-.94 2.06-2.06.94zm-11 1L8.5 8.5l.94-2.06 2.06-.94-2.06-.94L8.5 2.5l-.94 2.06-2.06.94zm10 10l.94 2.06.94-2.06 2.06-.94-2.06-.94-.94-2.06-.94 2.06-2.06.94z\"/><path d=\"M17.41 7.96l-1.37-1.37c-.4-.4-.92-.59-1.43-.59-.52 0-1.04.2-1.43.59L10.3 9.45l-7.72 7.72c-.78.78-.78 2.05 0 2.83L4 21.41c.39.39.9.59 1.41.59.51 0 1.02-.2 1.41-.59l7.78-7.78 2.81-2.81c.8-.78.8-2.07 0-2.86zM5.41 20L4 18.59l7.72-7.72 1.47 1.35L5.41 20z\"/>\n",
              "  </svg>\n",
              "      </button>\n",
              "      \n",
              "  <style>\n",
              "    .colab-df-container {\n",
              "      display:flex;\n",
              "      flex-wrap:wrap;\n",
              "      gap: 12px;\n",
              "    }\n",
              "\n",
              "    .colab-df-convert {\n",
              "      background-color: #E8F0FE;\n",
              "      border: none;\n",
              "      border-radius: 50%;\n",
              "      cursor: pointer;\n",
              "      display: none;\n",
              "      fill: #1967D2;\n",
              "      height: 32px;\n",
              "      padding: 0 0 0 0;\n",
              "      width: 32px;\n",
              "    }\n",
              "\n",
              "    .colab-df-convert:hover {\n",
              "      background-color: #E2EBFA;\n",
              "      box-shadow: 0px 1px 2px rgba(60, 64, 67, 0.3), 0px 1px 3px 1px rgba(60, 64, 67, 0.15);\n",
              "      fill: #174EA6;\n",
              "    }\n",
              "\n",
              "    [theme=dark] .colab-df-convert {\n",
              "      background-color: #3B4455;\n",
              "      fill: #D2E3FC;\n",
              "    }\n",
              "\n",
              "    [theme=dark] .colab-df-convert:hover {\n",
              "      background-color: #434B5C;\n",
              "      box-shadow: 0px 1px 3px 1px rgba(0, 0, 0, 0.15);\n",
              "      filter: drop-shadow(0px 1px 2px rgba(0, 0, 0, 0.3));\n",
              "      fill: #FFFFFF;\n",
              "    }\n",
              "  </style>\n",
              "\n",
              "      <script>\n",
              "        const buttonEl =\n",
              "          document.querySelector('#df-b7560f1b-0c39-4a05-b842-55226d4adfe7 button.colab-df-convert');\n",
              "        buttonEl.style.display =\n",
              "          google.colab.kernel.accessAllowed ? 'block' : 'none';\n",
              "\n",
              "        async function convertToInteractive(key) {\n",
              "          const element = document.querySelector('#df-b7560f1b-0c39-4a05-b842-55226d4adfe7');\n",
              "          const dataTable =\n",
              "            await google.colab.kernel.invokeFunction('convertToInteractive',\n",
              "                                                     [key], {});\n",
              "          if (!dataTable) return;\n",
              "\n",
              "          const docLinkHtml = 'Like what you see? Visit the ' +\n",
              "            '<a target=\"_blank\" href=https://colab.research.google.com/notebooks/data_table.ipynb>data table notebook</a>'\n",
              "            + ' to learn more about interactive tables.';\n",
              "          element.innerHTML = '';\n",
              "          dataTable['output_type'] = 'display_data';\n",
              "          await google.colab.output.renderOutput(dataTable, element);\n",
              "          const docLink = document.createElement('div');\n",
              "          docLink.innerHTML = docLinkHtml;\n",
              "          element.appendChild(docLink);\n",
              "        }\n",
              "      </script>\n",
              "    </div>\n",
              "  </div>\n",
              "  "
            ]
          },
          "metadata": {},
          "execution_count": 4
        }
      ]
    },
    {
      "cell_type": "code",
      "source": [
        "print(len(df['Source'].unique()))\n",
        "print(len(df['Destination'].unique()))"
      ],
      "metadata": {
        "colab": {
          "base_uri": "https://localhost:8080/"
        },
        "id": "YqjxqZ8bBdjI",
        "outputId": "764077f6-eca6-424e-8dea-392b01c34149"
      },
      "execution_count": 5,
      "outputs": [
        {
          "output_type": "stream",
          "name": "stdout",
          "text": [
            "29\n",
            "28\n"
          ]
        }
      ]
    },
    {
      "cell_type": "code",
      "source": [
        "df.Protocol.value_counts()"
      ],
      "metadata": {
        "colab": {
          "base_uri": "https://localhost:8080/"
        },
        "id": "TIv9JAJfG6nX",
        "outputId": "a42ba72f-8192-471b-89ca-3e2f5fe6e40d"
      },
      "execution_count": 23,
      "outputs": [
        {
          "output_type": "execute_result",
          "data": {
            "text/plain": [
              "TCP        391\n",
              "TLSv1.3    113\n",
              "DNS         52\n",
              "HTTP        45\n",
              "ARP         20\n",
              "QUIC        18\n",
              "NTP          8\n",
              "DHCPv6       7\n",
              "TLSv1.2      6\n",
              "OCSP         2\n",
              "Name: Protocol, dtype: int64"
            ]
          },
          "metadata": {},
          "execution_count": 23
        }
      ]
    },
    {
      "cell_type": "code",
      "source": [
        "# Drop rows for Protocal countries:\n",
        "df = df[df.Protocol != 'ARP']\n"
      ],
      "metadata": {
        "id": "1n4q8uSjHiBK"
      },
      "execution_count": 28,
      "outputs": []
    },
    {
      "cell_type": "code",
      "source": [
        "df = df[df.Protocol != 'DHCPv6']"
      ],
      "metadata": {
        "id": "u965euXZKYg1"
      },
      "execution_count": 29,
      "outputs": []
    },
    {
      "cell_type": "code",
      "source": [
        "df.Protocol.value_counts()"
      ],
      "metadata": {
        "colab": {
          "base_uri": "https://localhost:8080/"
        },
        "id": "d7BoF1bRKxnZ",
        "outputId": "1631ed05-e3f5-48fd-a86c-3a80a855761f"
      },
      "execution_count": 30,
      "outputs": [
        {
          "output_type": "execute_result",
          "data": {
            "text/plain": [
              "TCP        391\n",
              "TLSv1.3    113\n",
              "DNS         52\n",
              "HTTP        45\n",
              "QUIC        18\n",
              "NTP          8\n",
              "TLSv1.2      6\n",
              "OCSP         2\n",
              "Name: Protocol, dtype: int64"
            ]
          },
          "metadata": {},
          "execution_count": 30
        }
      ]
    },
    {
      "cell_type": "code",
      "source": [
        "src_ip_df = df['Source'].copy()\n",
        "dst_ip_df = df['Destination'].copy()\n",
        "src_ip_df = src_ip_df.reset_index()\n",
        "\n",
        "\n",
        "dst_ip_df = dst_ip_df.reset_index()\n"
      ],
      "metadata": {
        "id": "r83ChwVsB1O5"
      },
      "execution_count": 31,
      "outputs": []
    },
    {
      "cell_type": "code",
      "source": [
        "print(src_ip_df.shape)\n",
        "src_ip_df.head(5)\n"
      ],
      "metadata": {
        "colab": {
          "base_uri": "https://localhost:8080/",
          "height": 224
        },
        "id": "bRT1suoVCJgm",
        "outputId": "89ed2c49-cd40-4b62-86fa-5cd6446fc1ff"
      },
      "execution_count": 32,
      "outputs": [
        {
          "output_type": "stream",
          "name": "stdout",
          "text": [
            "(635, 2)\n"
          ]
        },
        {
          "output_type": "execute_result",
          "data": {
            "text/plain": [
              "   index          Source\n",
              "0      0   192.168.5.143\n",
              "1      1   192.168.5.143\n",
              "2      2    52.85.151.42\n",
              "3      3  35.244.181.201\n",
              "4      4   192.168.5.143"
            ],
            "text/html": [
              "\n",
              "  <div id=\"df-ec2e5035-25c0-4e7a-9f5f-931f3911a56d\">\n",
              "    <div class=\"colab-df-container\">\n",
              "      <div>\n",
              "<style scoped>\n",
              "    .dataframe tbody tr th:only-of-type {\n",
              "        vertical-align: middle;\n",
              "    }\n",
              "\n",
              "    .dataframe tbody tr th {\n",
              "        vertical-align: top;\n",
              "    }\n",
              "\n",
              "    .dataframe thead th {\n",
              "        text-align: right;\n",
              "    }\n",
              "</style>\n",
              "<table border=\"1\" class=\"dataframe\">\n",
              "  <thead>\n",
              "    <tr style=\"text-align: right;\">\n",
              "      <th></th>\n",
              "      <th>index</th>\n",
              "      <th>Source</th>\n",
              "    </tr>\n",
              "  </thead>\n",
              "  <tbody>\n",
              "    <tr>\n",
              "      <th>0</th>\n",
              "      <td>0</td>\n",
              "      <td>192.168.5.143</td>\n",
              "    </tr>\n",
              "    <tr>\n",
              "      <th>1</th>\n",
              "      <td>1</td>\n",
              "      <td>192.168.5.143</td>\n",
              "    </tr>\n",
              "    <tr>\n",
              "      <th>2</th>\n",
              "      <td>2</td>\n",
              "      <td>52.85.151.42</td>\n",
              "    </tr>\n",
              "    <tr>\n",
              "      <th>3</th>\n",
              "      <td>3</td>\n",
              "      <td>35.244.181.201</td>\n",
              "    </tr>\n",
              "    <tr>\n",
              "      <th>4</th>\n",
              "      <td>4</td>\n",
              "      <td>192.168.5.143</td>\n",
              "    </tr>\n",
              "  </tbody>\n",
              "</table>\n",
              "</div>\n",
              "      <button class=\"colab-df-convert\" onclick=\"convertToInteractive('df-ec2e5035-25c0-4e7a-9f5f-931f3911a56d')\"\n",
              "              title=\"Convert this dataframe to an interactive table.\"\n",
              "              style=\"display:none;\">\n",
              "        \n",
              "  <svg xmlns=\"http://www.w3.org/2000/svg\" height=\"24px\"viewBox=\"0 0 24 24\"\n",
              "       width=\"24px\">\n",
              "    <path d=\"M0 0h24v24H0V0z\" fill=\"none\"/>\n",
              "    <path d=\"M18.56 5.44l.94 2.06.94-2.06 2.06-.94-2.06-.94-.94-2.06-.94 2.06-2.06.94zm-11 1L8.5 8.5l.94-2.06 2.06-.94-2.06-.94L8.5 2.5l-.94 2.06-2.06.94zm10 10l.94 2.06.94-2.06 2.06-.94-2.06-.94-.94-2.06-.94 2.06-2.06.94z\"/><path d=\"M17.41 7.96l-1.37-1.37c-.4-.4-.92-.59-1.43-.59-.52 0-1.04.2-1.43.59L10.3 9.45l-7.72 7.72c-.78.78-.78 2.05 0 2.83L4 21.41c.39.39.9.59 1.41.59.51 0 1.02-.2 1.41-.59l7.78-7.78 2.81-2.81c.8-.78.8-2.07 0-2.86zM5.41 20L4 18.59l7.72-7.72 1.47 1.35L5.41 20z\"/>\n",
              "  </svg>\n",
              "      </button>\n",
              "      \n",
              "  <style>\n",
              "    .colab-df-container {\n",
              "      display:flex;\n",
              "      flex-wrap:wrap;\n",
              "      gap: 12px;\n",
              "    }\n",
              "\n",
              "    .colab-df-convert {\n",
              "      background-color: #E8F0FE;\n",
              "      border: none;\n",
              "      border-radius: 50%;\n",
              "      cursor: pointer;\n",
              "      display: none;\n",
              "      fill: #1967D2;\n",
              "      height: 32px;\n",
              "      padding: 0 0 0 0;\n",
              "      width: 32px;\n",
              "    }\n",
              "\n",
              "    .colab-df-convert:hover {\n",
              "      background-color: #E2EBFA;\n",
              "      box-shadow: 0px 1px 2px rgba(60, 64, 67, 0.3), 0px 1px 3px 1px rgba(60, 64, 67, 0.15);\n",
              "      fill: #174EA6;\n",
              "    }\n",
              "\n",
              "    [theme=dark] .colab-df-convert {\n",
              "      background-color: #3B4455;\n",
              "      fill: #D2E3FC;\n",
              "    }\n",
              "\n",
              "    [theme=dark] .colab-df-convert:hover {\n",
              "      background-color: #434B5C;\n",
              "      box-shadow: 0px 1px 3px 1px rgba(0, 0, 0, 0.15);\n",
              "      filter: drop-shadow(0px 1px 2px rgba(0, 0, 0, 0.3));\n",
              "      fill: #FFFFFF;\n",
              "    }\n",
              "  </style>\n",
              "\n",
              "      <script>\n",
              "        const buttonEl =\n",
              "          document.querySelector('#df-ec2e5035-25c0-4e7a-9f5f-931f3911a56d button.colab-df-convert');\n",
              "        buttonEl.style.display =\n",
              "          google.colab.kernel.accessAllowed ? 'block' : 'none';\n",
              "\n",
              "        async function convertToInteractive(key) {\n",
              "          const element = document.querySelector('#df-ec2e5035-25c0-4e7a-9f5f-931f3911a56d');\n",
              "          const dataTable =\n",
              "            await google.colab.kernel.invokeFunction('convertToInteractive',\n",
              "                                                     [key], {});\n",
              "          if (!dataTable) return;\n",
              "\n",
              "          const docLinkHtml = 'Like what you see? Visit the ' +\n",
              "            '<a target=\"_blank\" href=https://colab.research.google.com/notebooks/data_table.ipynb>data table notebook</a>'\n",
              "            + ' to learn more about interactive tables.';\n",
              "          element.innerHTML = '';\n",
              "          dataTable['output_type'] = 'display_data';\n",
              "          await google.colab.output.renderOutput(dataTable, element);\n",
              "          const docLink = document.createElement('div');\n",
              "          docLink.innerHTML = docLinkHtml;\n",
              "          element.appendChild(docLink);\n",
              "        }\n",
              "      </script>\n",
              "    </div>\n",
              "  </div>\n",
              "  "
            ]
          },
          "metadata": {},
          "execution_count": 32
        }
      ]
    },
    {
      "cell_type": "code",
      "source": [
        "print(dst_ip_df.shape)\n",
        "dst_ip_df.head(5)"
      ],
      "metadata": {
        "colab": {
          "base_uri": "https://localhost:8080/",
          "height": 224
        },
        "id": "LGgUb8dDCzBw",
        "outputId": "e3ed4005-a8b9-41da-8d84-58488c6aa59e"
      },
      "execution_count": 33,
      "outputs": [
        {
          "output_type": "stream",
          "name": "stdout",
          "text": [
            "(635, 2)\n"
          ]
        },
        {
          "output_type": "execute_result",
          "data": {
            "text/plain": [
              "   index     Destination\n",
              "0      0    52.85.151.42\n",
              "1      1  35.244.181.201\n",
              "2      2   192.168.5.143\n",
              "3      3   192.168.5.143\n",
              "4      4    52.85.151.42"
            ],
            "text/html": [
              "\n",
              "  <div id=\"df-99d1caf5-faa5-4e21-b277-d10f837c0c29\">\n",
              "    <div class=\"colab-df-container\">\n",
              "      <div>\n",
              "<style scoped>\n",
              "    .dataframe tbody tr th:only-of-type {\n",
              "        vertical-align: middle;\n",
              "    }\n",
              "\n",
              "    .dataframe tbody tr th {\n",
              "        vertical-align: top;\n",
              "    }\n",
              "\n",
              "    .dataframe thead th {\n",
              "        text-align: right;\n",
              "    }\n",
              "</style>\n",
              "<table border=\"1\" class=\"dataframe\">\n",
              "  <thead>\n",
              "    <tr style=\"text-align: right;\">\n",
              "      <th></th>\n",
              "      <th>index</th>\n",
              "      <th>Destination</th>\n",
              "    </tr>\n",
              "  </thead>\n",
              "  <tbody>\n",
              "    <tr>\n",
              "      <th>0</th>\n",
              "      <td>0</td>\n",
              "      <td>52.85.151.42</td>\n",
              "    </tr>\n",
              "    <tr>\n",
              "      <th>1</th>\n",
              "      <td>1</td>\n",
              "      <td>35.244.181.201</td>\n",
              "    </tr>\n",
              "    <tr>\n",
              "      <th>2</th>\n",
              "      <td>2</td>\n",
              "      <td>192.168.5.143</td>\n",
              "    </tr>\n",
              "    <tr>\n",
              "      <th>3</th>\n",
              "      <td>3</td>\n",
              "      <td>192.168.5.143</td>\n",
              "    </tr>\n",
              "    <tr>\n",
              "      <th>4</th>\n",
              "      <td>4</td>\n",
              "      <td>52.85.151.42</td>\n",
              "    </tr>\n",
              "  </tbody>\n",
              "</table>\n",
              "</div>\n",
              "      <button class=\"colab-df-convert\" onclick=\"convertToInteractive('df-99d1caf5-faa5-4e21-b277-d10f837c0c29')\"\n",
              "              title=\"Convert this dataframe to an interactive table.\"\n",
              "              style=\"display:none;\">\n",
              "        \n",
              "  <svg xmlns=\"http://www.w3.org/2000/svg\" height=\"24px\"viewBox=\"0 0 24 24\"\n",
              "       width=\"24px\">\n",
              "    <path d=\"M0 0h24v24H0V0z\" fill=\"none\"/>\n",
              "    <path d=\"M18.56 5.44l.94 2.06.94-2.06 2.06-.94-2.06-.94-.94-2.06-.94 2.06-2.06.94zm-11 1L8.5 8.5l.94-2.06 2.06-.94-2.06-.94L8.5 2.5l-.94 2.06-2.06.94zm10 10l.94 2.06.94-2.06 2.06-.94-2.06-.94-.94-2.06-.94 2.06-2.06.94z\"/><path d=\"M17.41 7.96l-1.37-1.37c-.4-.4-.92-.59-1.43-.59-.52 0-1.04.2-1.43.59L10.3 9.45l-7.72 7.72c-.78.78-.78 2.05 0 2.83L4 21.41c.39.39.9.59 1.41.59.51 0 1.02-.2 1.41-.59l7.78-7.78 2.81-2.81c.8-.78.8-2.07 0-2.86zM5.41 20L4 18.59l7.72-7.72 1.47 1.35L5.41 20z\"/>\n",
              "  </svg>\n",
              "      </button>\n",
              "      \n",
              "  <style>\n",
              "    .colab-df-container {\n",
              "      display:flex;\n",
              "      flex-wrap:wrap;\n",
              "      gap: 12px;\n",
              "    }\n",
              "\n",
              "    .colab-df-convert {\n",
              "      background-color: #E8F0FE;\n",
              "      border: none;\n",
              "      border-radius: 50%;\n",
              "      cursor: pointer;\n",
              "      display: none;\n",
              "      fill: #1967D2;\n",
              "      height: 32px;\n",
              "      padding: 0 0 0 0;\n",
              "      width: 32px;\n",
              "    }\n",
              "\n",
              "    .colab-df-convert:hover {\n",
              "      background-color: #E2EBFA;\n",
              "      box-shadow: 0px 1px 2px rgba(60, 64, 67, 0.3), 0px 1px 3px 1px rgba(60, 64, 67, 0.15);\n",
              "      fill: #174EA6;\n",
              "    }\n",
              "\n",
              "    [theme=dark] .colab-df-convert {\n",
              "      background-color: #3B4455;\n",
              "      fill: #D2E3FC;\n",
              "    }\n",
              "\n",
              "    [theme=dark] .colab-df-convert:hover {\n",
              "      background-color: #434B5C;\n",
              "      box-shadow: 0px 1px 3px 1px rgba(0, 0, 0, 0.15);\n",
              "      filter: drop-shadow(0px 1px 2px rgba(0, 0, 0, 0.3));\n",
              "      fill: #FFFFFF;\n",
              "    }\n",
              "  </style>\n",
              "\n",
              "      <script>\n",
              "        const buttonEl =\n",
              "          document.querySelector('#df-99d1caf5-faa5-4e21-b277-d10f837c0c29 button.colab-df-convert');\n",
              "        buttonEl.style.display =\n",
              "          google.colab.kernel.accessAllowed ? 'block' : 'none';\n",
              "\n",
              "        async function convertToInteractive(key) {\n",
              "          const element = document.querySelector('#df-99d1caf5-faa5-4e21-b277-d10f837c0c29');\n",
              "          const dataTable =\n",
              "            await google.colab.kernel.invokeFunction('convertToInteractive',\n",
              "                                                     [key], {});\n",
              "          if (!dataTable) return;\n",
              "\n",
              "          const docLinkHtml = 'Like what you see? Visit the ' +\n",
              "            '<a target=\"_blank\" href=https://colab.research.google.com/notebooks/data_table.ipynb>data table notebook</a>'\n",
              "            + ' to learn more about interactive tables.';\n",
              "          element.innerHTML = '';\n",
              "          dataTable['output_type'] = 'display_data';\n",
              "          await google.colab.output.renderOutput(dataTable, element);\n",
              "          const docLink = document.createElement('div');\n",
              "          docLink.innerHTML = docLinkHtml;\n",
              "          element.appendChild(docLink);\n",
              "        }\n",
              "      </script>\n",
              "    </div>\n",
              "  </div>\n",
              "  "
            ]
          },
          "metadata": {},
          "execution_count": 33
        }
      ]
    },
    {
      "cell_type": "code",
      "source": [
        "src_ip_df['Source'].isnull().sum()"
      ],
      "metadata": {
        "colab": {
          "base_uri": "https://localhost:8080/"
        },
        "id": "9SsWn0YxDEFQ",
        "outputId": "82a3ca48-34f7-4820-fa46-2854c66fd6b2"
      },
      "execution_count": 34,
      "outputs": [
        {
          "output_type": "execute_result",
          "data": {
            "text/plain": [
              "0"
            ]
          },
          "metadata": {},
          "execution_count": 34
        }
      ]
    },
    {
      "cell_type": "code",
      "source": [
        "dst_ip_df['Destination'].isnull().sum()"
      ],
      "metadata": {
        "colab": {
          "base_uri": "https://localhost:8080/"
        },
        "id": "mez_d7NQDSqg",
        "outputId": "3be0110f-3533-47fd-990e-dbe49442f772"
      },
      "execution_count": 35,
      "outputs": [
        {
          "output_type": "execute_result",
          "data": {
            "text/plain": [
              "0"
            ]
          },
          "metadata": {},
          "execution_count": 35
        }
      ]
    },
    {
      "cell_type": "code",
      "source": [
        "display(src_ip_df)"
      ],
      "metadata": {
        "colab": {
          "base_uri": "https://localhost:8080/",
          "height": 424
        },
        "id": "TT3yqF9SF4MR",
        "outputId": "c688f40f-4125-4345-8379-9614b6c11239"
      },
      "execution_count": 36,
      "outputs": [
        {
          "output_type": "display_data",
          "data": {
            "text/plain": [
              "     index          Source\n",
              "0        0   192.168.5.143\n",
              "1        1   192.168.5.143\n",
              "2        2    52.85.151.42\n",
              "3        3  35.244.181.201\n",
              "4        4   192.168.5.143\n",
              "..     ...             ...\n",
              "630    657   151.205.4.167\n",
              "631    658   192.168.5.143\n",
              "632    659     18.67.76.44\n",
              "633    660   192.168.5.143\n",
              "634    661   23.207.202.52\n",
              "\n",
              "[635 rows x 2 columns]"
            ],
            "text/html": [
              "\n",
              "  <div id=\"df-1273bbf2-23be-4ab7-ad79-4d4b8b7df406\">\n",
              "    <div class=\"colab-df-container\">\n",
              "      <div>\n",
              "<style scoped>\n",
              "    .dataframe tbody tr th:only-of-type {\n",
              "        vertical-align: middle;\n",
              "    }\n",
              "\n",
              "    .dataframe tbody tr th {\n",
              "        vertical-align: top;\n",
              "    }\n",
              "\n",
              "    .dataframe thead th {\n",
              "        text-align: right;\n",
              "    }\n",
              "</style>\n",
              "<table border=\"1\" class=\"dataframe\">\n",
              "  <thead>\n",
              "    <tr style=\"text-align: right;\">\n",
              "      <th></th>\n",
              "      <th>index</th>\n",
              "      <th>Source</th>\n",
              "    </tr>\n",
              "  </thead>\n",
              "  <tbody>\n",
              "    <tr>\n",
              "      <th>0</th>\n",
              "      <td>0</td>\n",
              "      <td>192.168.5.143</td>\n",
              "    </tr>\n",
              "    <tr>\n",
              "      <th>1</th>\n",
              "      <td>1</td>\n",
              "      <td>192.168.5.143</td>\n",
              "    </tr>\n",
              "    <tr>\n",
              "      <th>2</th>\n",
              "      <td>2</td>\n",
              "      <td>52.85.151.42</td>\n",
              "    </tr>\n",
              "    <tr>\n",
              "      <th>3</th>\n",
              "      <td>3</td>\n",
              "      <td>35.244.181.201</td>\n",
              "    </tr>\n",
              "    <tr>\n",
              "      <th>4</th>\n",
              "      <td>4</td>\n",
              "      <td>192.168.5.143</td>\n",
              "    </tr>\n",
              "    <tr>\n",
              "      <th>...</th>\n",
              "      <td>...</td>\n",
              "      <td>...</td>\n",
              "    </tr>\n",
              "    <tr>\n",
              "      <th>630</th>\n",
              "      <td>657</td>\n",
              "      <td>151.205.4.167</td>\n",
              "    </tr>\n",
              "    <tr>\n",
              "      <th>631</th>\n",
              "      <td>658</td>\n",
              "      <td>192.168.5.143</td>\n",
              "    </tr>\n",
              "    <tr>\n",
              "      <th>632</th>\n",
              "      <td>659</td>\n",
              "      <td>18.67.76.44</td>\n",
              "    </tr>\n",
              "    <tr>\n",
              "      <th>633</th>\n",
              "      <td>660</td>\n",
              "      <td>192.168.5.143</td>\n",
              "    </tr>\n",
              "    <tr>\n",
              "      <th>634</th>\n",
              "      <td>661</td>\n",
              "      <td>23.207.202.52</td>\n",
              "    </tr>\n",
              "  </tbody>\n",
              "</table>\n",
              "<p>635 rows × 2 columns</p>\n",
              "</div>\n",
              "      <button class=\"colab-df-convert\" onclick=\"convertToInteractive('df-1273bbf2-23be-4ab7-ad79-4d4b8b7df406')\"\n",
              "              title=\"Convert this dataframe to an interactive table.\"\n",
              "              style=\"display:none;\">\n",
              "        \n",
              "  <svg xmlns=\"http://www.w3.org/2000/svg\" height=\"24px\"viewBox=\"0 0 24 24\"\n",
              "       width=\"24px\">\n",
              "    <path d=\"M0 0h24v24H0V0z\" fill=\"none\"/>\n",
              "    <path d=\"M18.56 5.44l.94 2.06.94-2.06 2.06-.94-2.06-.94-.94-2.06-.94 2.06-2.06.94zm-11 1L8.5 8.5l.94-2.06 2.06-.94-2.06-.94L8.5 2.5l-.94 2.06-2.06.94zm10 10l.94 2.06.94-2.06 2.06-.94-2.06-.94-.94-2.06-.94 2.06-2.06.94z\"/><path d=\"M17.41 7.96l-1.37-1.37c-.4-.4-.92-.59-1.43-.59-.52 0-1.04.2-1.43.59L10.3 9.45l-7.72 7.72c-.78.78-.78 2.05 0 2.83L4 21.41c.39.39.9.59 1.41.59.51 0 1.02-.2 1.41-.59l7.78-7.78 2.81-2.81c.8-.78.8-2.07 0-2.86zM5.41 20L4 18.59l7.72-7.72 1.47 1.35L5.41 20z\"/>\n",
              "  </svg>\n",
              "      </button>\n",
              "      \n",
              "  <style>\n",
              "    .colab-df-container {\n",
              "      display:flex;\n",
              "      flex-wrap:wrap;\n",
              "      gap: 12px;\n",
              "    }\n",
              "\n",
              "    .colab-df-convert {\n",
              "      background-color: #E8F0FE;\n",
              "      border: none;\n",
              "      border-radius: 50%;\n",
              "      cursor: pointer;\n",
              "      display: none;\n",
              "      fill: #1967D2;\n",
              "      height: 32px;\n",
              "      padding: 0 0 0 0;\n",
              "      width: 32px;\n",
              "    }\n",
              "\n",
              "    .colab-df-convert:hover {\n",
              "      background-color: #E2EBFA;\n",
              "      box-shadow: 0px 1px 2px rgba(60, 64, 67, 0.3), 0px 1px 3px 1px rgba(60, 64, 67, 0.15);\n",
              "      fill: #174EA6;\n",
              "    }\n",
              "\n",
              "    [theme=dark] .colab-df-convert {\n",
              "      background-color: #3B4455;\n",
              "      fill: #D2E3FC;\n",
              "    }\n",
              "\n",
              "    [theme=dark] .colab-df-convert:hover {\n",
              "      background-color: #434B5C;\n",
              "      box-shadow: 0px 1px 3px 1px rgba(0, 0, 0, 0.15);\n",
              "      filter: drop-shadow(0px 1px 2px rgba(0, 0, 0, 0.3));\n",
              "      fill: #FFFFFF;\n",
              "    }\n",
              "  </style>\n",
              "\n",
              "      <script>\n",
              "        const buttonEl =\n",
              "          document.querySelector('#df-1273bbf2-23be-4ab7-ad79-4d4b8b7df406 button.colab-df-convert');\n",
              "        buttonEl.style.display =\n",
              "          google.colab.kernel.accessAllowed ? 'block' : 'none';\n",
              "\n",
              "        async function convertToInteractive(key) {\n",
              "          const element = document.querySelector('#df-1273bbf2-23be-4ab7-ad79-4d4b8b7df406');\n",
              "          const dataTable =\n",
              "            await google.colab.kernel.invokeFunction('convertToInteractive',\n",
              "                                                     [key], {});\n",
              "          if (!dataTable) return;\n",
              "\n",
              "          const docLinkHtml = 'Like what you see? Visit the ' +\n",
              "            '<a target=\"_blank\" href=https://colab.research.google.com/notebooks/data_table.ipynb>data table notebook</a>'\n",
              "            + ' to learn more about interactive tables.';\n",
              "          element.innerHTML = '';\n",
              "          dataTable['output_type'] = 'display_data';\n",
              "          await google.colab.output.renderOutput(dataTable, element);\n",
              "          const docLink = document.createElement('div');\n",
              "          docLink.innerHTML = docLinkHtml;\n",
              "          element.appendChild(docLink);\n",
              "        }\n",
              "      </script>\n",
              "    </div>\n",
              "  </div>\n",
              "  "
            ]
          },
          "metadata": {}
        }
      ]
    },
    {
      "cell_type": "code",
      "source": [
        "#Skipped dropping duplicates"
      ],
      "metadata": {
        "id": "ourZoNoYEvU9"
      },
      "execution_count": 37,
      "outputs": []
    },
    {
      "cell_type": "code",
      "source": [
        "src_ip_df.loc[:, 'oct1'] = src_ip_df['Source'].apply(lambda x: x.split(\".\")[0])\n",
        "src_ip_df.loc[:, 'oct2'] = src_ip_df['Source'].apply(lambda x: x.split(\".\")[1])\n",
        "src_ip_df.loc[:, 'oct3'] = src_ip_df['Source'].apply(lambda x: x.split(\".\")[2])\n",
        "src_ip_df.loc[:, 'oct4'] = src_ip_df['Source'].apply(lambda x: x.split(\".\")[3])\n",
        "\n",
        "dst_ip_df.loc[:, 'oct1'] = dst_ip_df['Destination'].apply(lambda x: x.split(\".\")[0])\n",
        "dst_ip_df.loc[:, 'oct2'] = dst_ip_df['Destination'].apply(lambda x: x.split(\".\")[1])\n",
        "dst_ip_df.loc[:, 'oct3'] = dst_ip_df['Destination'].apply(lambda x: x.split(\".\")[2])\n",
        "dst_ip_df.loc[:, 'oct4'] = dst_ip_df['Destination'].apply(lambda x: x.split(\".\")[3])"
      ],
      "metadata": {
        "id": "DocHVKGVDu8H"
      },
      "execution_count": 38,
      "outputs": []
    },
    {
      "cell_type": "code",
      "source": [
        "src_ip_df = src_ip_df.reset_index()\n",
        "dst_ip_df = dst_ip_df.reset_index()"
      ],
      "metadata": {
        "id": "HaEvmKpAE5Y8"
      },
      "execution_count": 39,
      "outputs": []
    },
    {
      "cell_type": "code",
      "source": [
        "print(src_ip_df.head(5))\n",
        "print()\n",
        "print(dst_ip_df.head(5))"
      ],
      "metadata": {
        "colab": {
          "base_uri": "https://localhost:8080/"
        },
        "id": "I7iCgnbeLKEP",
        "outputId": "c12f2a71-8450-48ce-b683-46368c5dda59"
      },
      "execution_count": 40,
      "outputs": [
        {
          "output_type": "stream",
          "name": "stdout",
          "text": [
            "   level_0  index          Source oct1 oct2 oct3 oct4\n",
            "0        0      0   192.168.5.143  192  168    5  143\n",
            "1        1      1   192.168.5.143  192  168    5  143\n",
            "2        2      2    52.85.151.42   52   85  151   42\n",
            "3        3      3  35.244.181.201   35  244  181  201\n",
            "4        4      4   192.168.5.143  192  168    5  143\n",
            "\n",
            "   level_0  index     Destination oct1 oct2 oct3 oct4\n",
            "0        0      0    52.85.151.42   52   85  151   42\n",
            "1        1      1  35.244.181.201   35  244  181  201\n",
            "2        2      2   192.168.5.143  192  168    5  143\n",
            "3        3      3   192.168.5.143  192  168    5  143\n",
            "4        4      4    52.85.151.42   52   85  151   42\n"
          ]
        }
      ]
    },
    {
      "cell_type": "code",
      "source": [
        "src_ip_df=src_ip_df.drop(['level_0'], axis = 1)\n",
        "dst_ip_df=dst_ip_df.drop(['level_0'], axis = 1)\n",
        "dst_ip_df"
      ],
      "metadata": {
        "colab": {
          "base_uri": "https://localhost:8080/",
          "height": 424
        },
        "id": "jB8FLlPrLMw4",
        "outputId": "8089238b-5a31-4a46-ea67-2b42b334dac1"
      },
      "execution_count": 44,
      "outputs": [
        {
          "output_type": "execute_result",
          "data": {
            "text/plain": [
              "     index     Destination oct1 oct2 oct3 oct4\n",
              "0        0    52.85.151.42   52   85  151   42\n",
              "1        1  35.244.181.201   35  244  181  201\n",
              "2        2   192.168.5.143  192  168    5  143\n",
              "3        3   192.168.5.143  192  168    5  143\n",
              "4        4    52.85.151.42   52   85  151   42\n",
              "..     ...             ...  ...  ...  ...  ...\n",
              "630    630   192.168.5.140  192  168    5  140\n",
              "631    631     18.67.76.44   18   67   76   44\n",
              "632    632   192.168.5.143  192  168    5  143\n",
              "633    633   23.207.202.52   23  207  202   52\n",
              "634    634   192.168.5.143  192  168    5  143\n",
              "\n",
              "[635 rows x 6 columns]"
            ],
            "text/html": [
              "\n",
              "  <div id=\"df-d07cc565-fb2c-487c-8561-cf1885434471\">\n",
              "    <div class=\"colab-df-container\">\n",
              "      <div>\n",
              "<style scoped>\n",
              "    .dataframe tbody tr th:only-of-type {\n",
              "        vertical-align: middle;\n",
              "    }\n",
              "\n",
              "    .dataframe tbody tr th {\n",
              "        vertical-align: top;\n",
              "    }\n",
              "\n",
              "    .dataframe thead th {\n",
              "        text-align: right;\n",
              "    }\n",
              "</style>\n",
              "<table border=\"1\" class=\"dataframe\">\n",
              "  <thead>\n",
              "    <tr style=\"text-align: right;\">\n",
              "      <th></th>\n",
              "      <th>index</th>\n",
              "      <th>Destination</th>\n",
              "      <th>oct1</th>\n",
              "      <th>oct2</th>\n",
              "      <th>oct3</th>\n",
              "      <th>oct4</th>\n",
              "    </tr>\n",
              "  </thead>\n",
              "  <tbody>\n",
              "    <tr>\n",
              "      <th>0</th>\n",
              "      <td>0</td>\n",
              "      <td>52.85.151.42</td>\n",
              "      <td>52</td>\n",
              "      <td>85</td>\n",
              "      <td>151</td>\n",
              "      <td>42</td>\n",
              "    </tr>\n",
              "    <tr>\n",
              "      <th>1</th>\n",
              "      <td>1</td>\n",
              "      <td>35.244.181.201</td>\n",
              "      <td>35</td>\n",
              "      <td>244</td>\n",
              "      <td>181</td>\n",
              "      <td>201</td>\n",
              "    </tr>\n",
              "    <tr>\n",
              "      <th>2</th>\n",
              "      <td>2</td>\n",
              "      <td>192.168.5.143</td>\n",
              "      <td>192</td>\n",
              "      <td>168</td>\n",
              "      <td>5</td>\n",
              "      <td>143</td>\n",
              "    </tr>\n",
              "    <tr>\n",
              "      <th>3</th>\n",
              "      <td>3</td>\n",
              "      <td>192.168.5.143</td>\n",
              "      <td>192</td>\n",
              "      <td>168</td>\n",
              "      <td>5</td>\n",
              "      <td>143</td>\n",
              "    </tr>\n",
              "    <tr>\n",
              "      <th>4</th>\n",
              "      <td>4</td>\n",
              "      <td>52.85.151.42</td>\n",
              "      <td>52</td>\n",
              "      <td>85</td>\n",
              "      <td>151</td>\n",
              "      <td>42</td>\n",
              "    </tr>\n",
              "    <tr>\n",
              "      <th>...</th>\n",
              "      <td>...</td>\n",
              "      <td>...</td>\n",
              "      <td>...</td>\n",
              "      <td>...</td>\n",
              "      <td>...</td>\n",
              "      <td>...</td>\n",
              "    </tr>\n",
              "    <tr>\n",
              "      <th>630</th>\n",
              "      <td>630</td>\n",
              "      <td>192.168.5.140</td>\n",
              "      <td>192</td>\n",
              "      <td>168</td>\n",
              "      <td>5</td>\n",
              "      <td>140</td>\n",
              "    </tr>\n",
              "    <tr>\n",
              "      <th>631</th>\n",
              "      <td>631</td>\n",
              "      <td>18.67.76.44</td>\n",
              "      <td>18</td>\n",
              "      <td>67</td>\n",
              "      <td>76</td>\n",
              "      <td>44</td>\n",
              "    </tr>\n",
              "    <tr>\n",
              "      <th>632</th>\n",
              "      <td>632</td>\n",
              "      <td>192.168.5.143</td>\n",
              "      <td>192</td>\n",
              "      <td>168</td>\n",
              "      <td>5</td>\n",
              "      <td>143</td>\n",
              "    </tr>\n",
              "    <tr>\n",
              "      <th>633</th>\n",
              "      <td>633</td>\n",
              "      <td>23.207.202.52</td>\n",
              "      <td>23</td>\n",
              "      <td>207</td>\n",
              "      <td>202</td>\n",
              "      <td>52</td>\n",
              "    </tr>\n",
              "    <tr>\n",
              "      <th>634</th>\n",
              "      <td>634</td>\n",
              "      <td>192.168.5.143</td>\n",
              "      <td>192</td>\n",
              "      <td>168</td>\n",
              "      <td>5</td>\n",
              "      <td>143</td>\n",
              "    </tr>\n",
              "  </tbody>\n",
              "</table>\n",
              "<p>635 rows × 6 columns</p>\n",
              "</div>\n",
              "      <button class=\"colab-df-convert\" onclick=\"convertToInteractive('df-d07cc565-fb2c-487c-8561-cf1885434471')\"\n",
              "              title=\"Convert this dataframe to an interactive table.\"\n",
              "              style=\"display:none;\">\n",
              "        \n",
              "  <svg xmlns=\"http://www.w3.org/2000/svg\" height=\"24px\"viewBox=\"0 0 24 24\"\n",
              "       width=\"24px\">\n",
              "    <path d=\"M0 0h24v24H0V0z\" fill=\"none\"/>\n",
              "    <path d=\"M18.56 5.44l.94 2.06.94-2.06 2.06-.94-2.06-.94-.94-2.06-.94 2.06-2.06.94zm-11 1L8.5 8.5l.94-2.06 2.06-.94-2.06-.94L8.5 2.5l-.94 2.06-2.06.94zm10 10l.94 2.06.94-2.06 2.06-.94-2.06-.94-.94-2.06-.94 2.06-2.06.94z\"/><path d=\"M17.41 7.96l-1.37-1.37c-.4-.4-.92-.59-1.43-.59-.52 0-1.04.2-1.43.59L10.3 9.45l-7.72 7.72c-.78.78-.78 2.05 0 2.83L4 21.41c.39.39.9.59 1.41.59.51 0 1.02-.2 1.41-.59l7.78-7.78 2.81-2.81c.8-.78.8-2.07 0-2.86zM5.41 20L4 18.59l7.72-7.72 1.47 1.35L5.41 20z\"/>\n",
              "  </svg>\n",
              "      </button>\n",
              "      \n",
              "  <style>\n",
              "    .colab-df-container {\n",
              "      display:flex;\n",
              "      flex-wrap:wrap;\n",
              "      gap: 12px;\n",
              "    }\n",
              "\n",
              "    .colab-df-convert {\n",
              "      background-color: #E8F0FE;\n",
              "      border: none;\n",
              "      border-radius: 50%;\n",
              "      cursor: pointer;\n",
              "      display: none;\n",
              "      fill: #1967D2;\n",
              "      height: 32px;\n",
              "      padding: 0 0 0 0;\n",
              "      width: 32px;\n",
              "    }\n",
              "\n",
              "    .colab-df-convert:hover {\n",
              "      background-color: #E2EBFA;\n",
              "      box-shadow: 0px 1px 2px rgba(60, 64, 67, 0.3), 0px 1px 3px 1px rgba(60, 64, 67, 0.15);\n",
              "      fill: #174EA6;\n",
              "    }\n",
              "\n",
              "    [theme=dark] .colab-df-convert {\n",
              "      background-color: #3B4455;\n",
              "      fill: #D2E3FC;\n",
              "    }\n",
              "\n",
              "    [theme=dark] .colab-df-convert:hover {\n",
              "      background-color: #434B5C;\n",
              "      box-shadow: 0px 1px 3px 1px rgba(0, 0, 0, 0.15);\n",
              "      filter: drop-shadow(0px 1px 2px rgba(0, 0, 0, 0.3));\n",
              "      fill: #FFFFFF;\n",
              "    }\n",
              "  </style>\n",
              "\n",
              "      <script>\n",
              "        const buttonEl =\n",
              "          document.querySelector('#df-d07cc565-fb2c-487c-8561-cf1885434471 button.colab-df-convert');\n",
              "        buttonEl.style.display =\n",
              "          google.colab.kernel.accessAllowed ? 'block' : 'none';\n",
              "\n",
              "        async function convertToInteractive(key) {\n",
              "          const element = document.querySelector('#df-d07cc565-fb2c-487c-8561-cf1885434471');\n",
              "          const dataTable =\n",
              "            await google.colab.kernel.invokeFunction('convertToInteractive',\n",
              "                                                     [key], {});\n",
              "          if (!dataTable) return;\n",
              "\n",
              "          const docLinkHtml = 'Like what you see? Visit the ' +\n",
              "            '<a target=\"_blank\" href=https://colab.research.google.com/notebooks/data_table.ipynb>data table notebook</a>'\n",
              "            + ' to learn more about interactive tables.';\n",
              "          element.innerHTML = '';\n",
              "          dataTable['output_type'] = 'display_data';\n",
              "          await google.colab.output.renderOutput(dataTable, element);\n",
              "          const docLink = document.createElement('div');\n",
              "          docLink.innerHTML = docLinkHtml;\n",
              "          element.appendChild(docLink);\n",
              "        }\n",
              "      </script>\n",
              "    </div>\n",
              "  </div>\n",
              "  "
            ]
          },
          "metadata": {},
          "execution_count": 44
        }
      ]
    },
    {
      "cell_type": "code",
      "source": [
        "src_ip_df"
      ],
      "metadata": {
        "colab": {
          "base_uri": "https://localhost:8080/",
          "height": 424
        },
        "id": "rGtC-gz0LVGP",
        "outputId": "49ef7864-6363-4d34-c4ff-effbc12b74fa"
      },
      "execution_count": 45,
      "outputs": [
        {
          "output_type": "execute_result",
          "data": {
            "text/plain": [
              "     index          Source oct1 oct2 oct3 oct4\n",
              "0        0   192.168.5.143  192  168    5  143\n",
              "1        1   192.168.5.143  192  168    5  143\n",
              "2        2    52.85.151.42   52   85  151   42\n",
              "3        3  35.244.181.201   35  244  181  201\n",
              "4        4   192.168.5.143  192  168    5  143\n",
              "..     ...             ...  ...  ...  ...  ...\n",
              "630    630   151.205.4.167  151  205    4  167\n",
              "631    631   192.168.5.143  192  168    5  143\n",
              "632    632     18.67.76.44   18   67   76   44\n",
              "633    633   192.168.5.143  192  168    5  143\n",
              "634    634   23.207.202.52   23  207  202   52\n",
              "\n",
              "[635 rows x 6 columns]"
            ],
            "text/html": [
              "\n",
              "  <div id=\"df-a730ff11-b578-4705-ada7-f398ddebf046\">\n",
              "    <div class=\"colab-df-container\">\n",
              "      <div>\n",
              "<style scoped>\n",
              "    .dataframe tbody tr th:only-of-type {\n",
              "        vertical-align: middle;\n",
              "    }\n",
              "\n",
              "    .dataframe tbody tr th {\n",
              "        vertical-align: top;\n",
              "    }\n",
              "\n",
              "    .dataframe thead th {\n",
              "        text-align: right;\n",
              "    }\n",
              "</style>\n",
              "<table border=\"1\" class=\"dataframe\">\n",
              "  <thead>\n",
              "    <tr style=\"text-align: right;\">\n",
              "      <th></th>\n",
              "      <th>index</th>\n",
              "      <th>Source</th>\n",
              "      <th>oct1</th>\n",
              "      <th>oct2</th>\n",
              "      <th>oct3</th>\n",
              "      <th>oct4</th>\n",
              "    </tr>\n",
              "  </thead>\n",
              "  <tbody>\n",
              "    <tr>\n",
              "      <th>0</th>\n",
              "      <td>0</td>\n",
              "      <td>192.168.5.143</td>\n",
              "      <td>192</td>\n",
              "      <td>168</td>\n",
              "      <td>5</td>\n",
              "      <td>143</td>\n",
              "    </tr>\n",
              "    <tr>\n",
              "      <th>1</th>\n",
              "      <td>1</td>\n",
              "      <td>192.168.5.143</td>\n",
              "      <td>192</td>\n",
              "      <td>168</td>\n",
              "      <td>5</td>\n",
              "      <td>143</td>\n",
              "    </tr>\n",
              "    <tr>\n",
              "      <th>2</th>\n",
              "      <td>2</td>\n",
              "      <td>52.85.151.42</td>\n",
              "      <td>52</td>\n",
              "      <td>85</td>\n",
              "      <td>151</td>\n",
              "      <td>42</td>\n",
              "    </tr>\n",
              "    <tr>\n",
              "      <th>3</th>\n",
              "      <td>3</td>\n",
              "      <td>35.244.181.201</td>\n",
              "      <td>35</td>\n",
              "      <td>244</td>\n",
              "      <td>181</td>\n",
              "      <td>201</td>\n",
              "    </tr>\n",
              "    <tr>\n",
              "      <th>4</th>\n",
              "      <td>4</td>\n",
              "      <td>192.168.5.143</td>\n",
              "      <td>192</td>\n",
              "      <td>168</td>\n",
              "      <td>5</td>\n",
              "      <td>143</td>\n",
              "    </tr>\n",
              "    <tr>\n",
              "      <th>...</th>\n",
              "      <td>...</td>\n",
              "      <td>...</td>\n",
              "      <td>...</td>\n",
              "      <td>...</td>\n",
              "      <td>...</td>\n",
              "      <td>...</td>\n",
              "    </tr>\n",
              "    <tr>\n",
              "      <th>630</th>\n",
              "      <td>630</td>\n",
              "      <td>151.205.4.167</td>\n",
              "      <td>151</td>\n",
              "      <td>205</td>\n",
              "      <td>4</td>\n",
              "      <td>167</td>\n",
              "    </tr>\n",
              "    <tr>\n",
              "      <th>631</th>\n",
              "      <td>631</td>\n",
              "      <td>192.168.5.143</td>\n",
              "      <td>192</td>\n",
              "      <td>168</td>\n",
              "      <td>5</td>\n",
              "      <td>143</td>\n",
              "    </tr>\n",
              "    <tr>\n",
              "      <th>632</th>\n",
              "      <td>632</td>\n",
              "      <td>18.67.76.44</td>\n",
              "      <td>18</td>\n",
              "      <td>67</td>\n",
              "      <td>76</td>\n",
              "      <td>44</td>\n",
              "    </tr>\n",
              "    <tr>\n",
              "      <th>633</th>\n",
              "      <td>633</td>\n",
              "      <td>192.168.5.143</td>\n",
              "      <td>192</td>\n",
              "      <td>168</td>\n",
              "      <td>5</td>\n",
              "      <td>143</td>\n",
              "    </tr>\n",
              "    <tr>\n",
              "      <th>634</th>\n",
              "      <td>634</td>\n",
              "      <td>23.207.202.52</td>\n",
              "      <td>23</td>\n",
              "      <td>207</td>\n",
              "      <td>202</td>\n",
              "      <td>52</td>\n",
              "    </tr>\n",
              "  </tbody>\n",
              "</table>\n",
              "<p>635 rows × 6 columns</p>\n",
              "</div>\n",
              "      <button class=\"colab-df-convert\" onclick=\"convertToInteractive('df-a730ff11-b578-4705-ada7-f398ddebf046')\"\n",
              "              title=\"Convert this dataframe to an interactive table.\"\n",
              "              style=\"display:none;\">\n",
              "        \n",
              "  <svg xmlns=\"http://www.w3.org/2000/svg\" height=\"24px\"viewBox=\"0 0 24 24\"\n",
              "       width=\"24px\">\n",
              "    <path d=\"M0 0h24v24H0V0z\" fill=\"none\"/>\n",
              "    <path d=\"M18.56 5.44l.94 2.06.94-2.06 2.06-.94-2.06-.94-.94-2.06-.94 2.06-2.06.94zm-11 1L8.5 8.5l.94-2.06 2.06-.94-2.06-.94L8.5 2.5l-.94 2.06-2.06.94zm10 10l.94 2.06.94-2.06 2.06-.94-2.06-.94-.94-2.06-.94 2.06-2.06.94z\"/><path d=\"M17.41 7.96l-1.37-1.37c-.4-.4-.92-.59-1.43-.59-.52 0-1.04.2-1.43.59L10.3 9.45l-7.72 7.72c-.78.78-.78 2.05 0 2.83L4 21.41c.39.39.9.59 1.41.59.51 0 1.02-.2 1.41-.59l7.78-7.78 2.81-2.81c.8-.78.8-2.07 0-2.86zM5.41 20L4 18.59l7.72-7.72 1.47 1.35L5.41 20z\"/>\n",
              "  </svg>\n",
              "      </button>\n",
              "      \n",
              "  <style>\n",
              "    .colab-df-container {\n",
              "      display:flex;\n",
              "      flex-wrap:wrap;\n",
              "      gap: 12px;\n",
              "    }\n",
              "\n",
              "    .colab-df-convert {\n",
              "      background-color: #E8F0FE;\n",
              "      border: none;\n",
              "      border-radius: 50%;\n",
              "      cursor: pointer;\n",
              "      display: none;\n",
              "      fill: #1967D2;\n",
              "      height: 32px;\n",
              "      padding: 0 0 0 0;\n",
              "      width: 32px;\n",
              "    }\n",
              "\n",
              "    .colab-df-convert:hover {\n",
              "      background-color: #E2EBFA;\n",
              "      box-shadow: 0px 1px 2px rgba(60, 64, 67, 0.3), 0px 1px 3px 1px rgba(60, 64, 67, 0.15);\n",
              "      fill: #174EA6;\n",
              "    }\n",
              "\n",
              "    [theme=dark] .colab-df-convert {\n",
              "      background-color: #3B4455;\n",
              "      fill: #D2E3FC;\n",
              "    }\n",
              "\n",
              "    [theme=dark] .colab-df-convert:hover {\n",
              "      background-color: #434B5C;\n",
              "      box-shadow: 0px 1px 3px 1px rgba(0, 0, 0, 0.15);\n",
              "      filter: drop-shadow(0px 1px 2px rgba(0, 0, 0, 0.3));\n",
              "      fill: #FFFFFF;\n",
              "    }\n",
              "  </style>\n",
              "\n",
              "      <script>\n",
              "        const buttonEl =\n",
              "          document.querySelector('#df-a730ff11-b578-4705-ada7-f398ddebf046 button.colab-df-convert');\n",
              "        buttonEl.style.display =\n",
              "          google.colab.kernel.accessAllowed ? 'block' : 'none';\n",
              "\n",
              "        async function convertToInteractive(key) {\n",
              "          const element = document.querySelector('#df-a730ff11-b578-4705-ada7-f398ddebf046');\n",
              "          const dataTable =\n",
              "            await google.colab.kernel.invokeFunction('convertToInteractive',\n",
              "                                                     [key], {});\n",
              "          if (!dataTable) return;\n",
              "\n",
              "          const docLinkHtml = 'Like what you see? Visit the ' +\n",
              "            '<a target=\"_blank\" href=https://colab.research.google.com/notebooks/data_table.ipynb>data table notebook</a>'\n",
              "            + ' to learn more about interactive tables.';\n",
              "          element.innerHTML = '';\n",
              "          dataTable['output_type'] = 'display_data';\n",
              "          await google.colab.output.renderOutput(dataTable, element);\n",
              "          const docLink = document.createElement('div');\n",
              "          docLink.innerHTML = docLinkHtml;\n",
              "          element.appendChild(docLink);\n",
              "        }\n",
              "      </script>\n",
              "    </div>\n",
              "  </div>\n",
              "  "
            ]
          },
          "metadata": {},
          "execution_count": 45
        }
      ]
    },
    {
      "cell_type": "code",
      "source": [
        "X_matrix_src = np.array(src_ip_df[['oct1', 'oct2', 'oct3', 'oct4']])\n",
        "print(X_matrix_src.shape)\n",
        "print(X_matrix_src[0:5])\n",
        "print()\n",
        "\n",
        "X_matrix_dst = np.array(dst_ip_df[['oct1', 'oct2', 'oct3', 'oct4']])\n",
        "print(X_matrix_dst.shape)\n",
        "print(X_matrix_dst[0:5])"
      ],
      "metadata": {
        "colab": {
          "base_uri": "https://localhost:8080/"
        },
        "id": "Uomj4m8gLj0o",
        "outputId": "9fe6842b-066b-4169-d3d2-6c49b15d091e"
      },
      "execution_count": 46,
      "outputs": [
        {
          "output_type": "stream",
          "name": "stdout",
          "text": [
            "(635, 4)\n",
            "[['192' '168' '5' '143']\n",
            " ['192' '168' '5' '143']\n",
            " ['52' '85' '151' '42']\n",
            " ['35' '244' '181' '201']\n",
            " ['192' '168' '5' '143']]\n",
            "\n",
            "(635, 4)\n",
            "[['52' '85' '151' '42']\n",
            " ['35' '244' '181' '201']\n",
            " ['192' '168' '5' '143']\n",
            " ['192' '168' '5' '143']\n",
            " ['52' '85' '151' '42']]\n"
          ]
        }
      ]
    },
    {
      "cell_type": "code",
      "source": [
        "#Applying PCA to reduce dimensions\n",
        "from sklearn.decomposition import PCA\n",
        "\n",
        "# source\n",
        "pcas = PCA(n_components=4)\n",
        "pcas.fit(X_matrix_src)\n",
        "print(pcas.explained_variance_ratio_)\n",
        "\n",
        "#destination\n",
        "pcad = PCA(n_components=4)\n",
        "pcad.fit(X_matrix_dst)\n",
        "print(pcad.explained_variance_ratio_)"
      ],
      "metadata": {
        "colab": {
          "base_uri": "https://localhost:8080/"
        },
        "id": "FN_21aR9MFgZ",
        "outputId": "5df21ce3-757a-499a-bc9b-1d82193aefce"
      },
      "execution_count": 47,
      "outputs": [
        {
          "output_type": "stream",
          "name": "stdout",
          "text": [
            "[0.71267233 0.13545224 0.10367445 0.04820098]\n",
            "[0.67989772 0.1597727  0.11273813 0.04759146]\n"
          ]
        }
      ]
    },
    {
      "cell_type": "code",
      "source": [
        "pca_src = PCA(n_components=2)\n",
        "pcas = pca_src.fit_transform(X_matrix_src)\n",
        "\n",
        "pca_dest = PCA(n_components=2)\n",
        "pcad = pca_dest.fit_transform(X_matrix_dst)\n",
        "\n",
        "pcas1=[]\n",
        "pcas2=[]\n",
        "\n",
        "pcad1=[]\n",
        "pcad2=[]\n",
        "\n",
        "\n",
        "#source\n",
        "for i in pcas:\n",
        "    pcas1.append(i[0])\n",
        "    pcas2.append(i[1])\n",
        "    \n",
        "#destination\n",
        "for i in pcad:\n",
        "    pcad1.append(i[0])\n",
        "    pcad2.append(i[1])\n",
        "    \n",
        "print(len(pcas1))\n",
        "print(len(pcas2))\n",
        "\n",
        "print(len(pcad1))\n",
        "print(len(pcad2))"
      ],
      "metadata": {
        "colab": {
          "base_uri": "https://localhost:8080/"
        },
        "id": "NesFbhB6Peb0",
        "outputId": "3992d9c5-4a3f-459e-f1e5-4ab354a6e2d4"
      },
      "execution_count": 48,
      "outputs": [
        {
          "output_type": "stream",
          "name": "stdout",
          "text": [
            "635\n",
            "635\n",
            "635\n",
            "635\n"
          ]
        }
      ]
    },
    {
      "cell_type": "code",
      "source": [
        "print(pcas.shape)\n",
        "print(pcad.shape)"
      ],
      "metadata": {
        "colab": {
          "base_uri": "https://localhost:8080/"
        },
        "id": "ayeNkQYFPtpY",
        "outputId": "a5fbed92-a17e-43cc-ec1a-eed1c909b537"
      },
      "execution_count": 49,
      "outputs": [
        {
          "output_type": "stream",
          "name": "stdout",
          "text": [
            "(635, 2)\n",
            "(635, 2)\n"
          ]
        }
      ]
    },
    {
      "cell_type": "code",
      "source": [
        "src_ip_df['pca1'] = pcas1\n",
        "src_ip_df['pca2'] = pcas2\n",
        "print(src_ip_df[:2])\n",
        "print()\n",
        "dst_ip_df['pca1'] = pcad1\n",
        "dst_ip_df['pca2'] = pcad2\n",
        "\n",
        "print(dst_ip_df[:2])"
      ],
      "metadata": {
        "colab": {
          "base_uri": "https://localhost:8080/"
        },
        "id": "lQVLp1mLPxKV",
        "outputId": "d17148a6-1170-4998-8c0f-089e32921b79"
      },
      "execution_count": 50,
      "outputs": [
        {
          "output_type": "stream",
          "name": "stdout",
          "text": [
            "   index         Source oct1 oct2 oct3 oct4       pca1      pca2\n",
            "0      0  192.168.5.143  192  168    5  143 -67.555033 -7.549024\n",
            "1      1  192.168.5.143  192  168    5  143 -67.555033 -7.549024\n",
            "\n",
            "   index     Destination oct1 oct2 oct3 oct4        pca1        pca2\n",
            "0      0    52.85.151.42   52   85  151   42  169.315817   12.418270\n",
            "1      1  35.244.181.201   35  244  181  201   69.453812  197.704778\n"
          ]
        }
      ]
    },
    {
      "cell_type": "code",
      "source": [
        "# Maintain a copy for using for K-Means later.\n",
        "dst_ip_df_copy = dst_ip_df.copy()\n",
        "src_ip_df_copy = src_ip_df.copy()"
      ],
      "metadata": {
        "id": "IeSZlc_cP7gJ"
      },
      "execution_count": 51,
      "outputs": []
    },
    {
      "cell_type": "code",
      "source": [
        "#scatter plot source Ip address\n",
        "import matplotlib.pyplot as plt\n",
        "%matplotlib inline\n",
        "plt.rcParams[\"figure.figsize\"] = (10,10)\n",
        "plt.scatter(src_ip_df['pca1'], src_ip_df['pca2'], s=10, color='blue',label=\"All Hosts\")\n",
        "plt.legend(bbox_to_anchor=(1.005, 1), loc=2, borderaxespad=0.)\n",
        "plt.show()"
      ],
      "metadata": {
        "colab": {
          "base_uri": "https://localhost:8080/",
          "height": 592
        },
        "id": "ft_AZXZsQBf8",
        "outputId": "64b4aa30-22cb-4e82-d47d-f397f20b88b2"
      },
      "execution_count": 53,
      "outputs": [
        {
          "output_type": "display_data",
          "data": {
            "text/plain": [
              "<Figure size 720x720 with 1 Axes>"
            ],
            "image/png": "[encoded data removed]"
          },
          "metadata": {
            "needs_background": "light"
          }
        }
      ]
    },
    {
      "cell_type": "code",
      "source": [
        ""
      ],
      "metadata": {
        "id": "J4jSZg5gQOqg"
      },
      "execution_count": null,
      "outputs": []
    }
  ]
}